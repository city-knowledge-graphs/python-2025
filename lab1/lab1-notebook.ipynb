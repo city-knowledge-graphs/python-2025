{
 "cells": [
  {
   "cell_type": "markdown",
   "id": "309df093",
   "metadata": {},
   "source": [
    "## Requirements/Libraries"
   ]
  },
  {
   "cell_type": "code",
   "execution_count": 1,
   "id": "755fb392",
   "metadata": {},
   "outputs": [
    {
     "name": "stderr",
     "output_type": "stream",
     "text": [
      "* Owlready2 * Warning: optimized Cython parser module 'owlready2_optimized' is not available, defaulting to slower Python implementation\n"
     ]
    }
   ],
   "source": [
    "import requests\n",
    "from owlready2 import *\n",
    "from rdflib import Graph\n",
    "from SPARQLWrapper import SPARQLWrapper, JSON"
   ]
  },
  {
   "cell_type": "markdown",
   "id": "93252a51",
   "metadata": {},
   "source": [
    "## Load an ontology and print 10 classes"
   ]
  },
  {
   "cell_type": "code",
   "execution_count": 2,
   "id": "91513073",
   "metadata": {},
   "outputs": [
    {
     "name": "stdout",
     "output_type": "stream",
     "text": [
      "Classes in DBpedia ontology: 1181\n",
      "\thttp://dbpedia.org/ontology/Abbey\n",
      "\thttp://dbpedia.org/ontology/Monastery\n",
      "\thttp://dbpedia.org/ontology/ReligiousBuilding\n",
      "\thttp://dbpedia.org/ontology/AcademicConference\n",
      "\thttp://dbpedia.org/ontology/SocietalEvent\n",
      "\thttp://dbpedia.org/ontology/AcademicJournal\n",
      "\thttp://dbpedia.org/ontology/PeriodicalLiterature\n",
      "\thttp://dbpedia.org/ontology/AcademicSubject\n",
      "\thttp://dbpedia.org/ontology/TopicalConcept\n",
      "\n",
      "Test successful!!\n"
     ]
    }
   ],
   "source": [
    "#Load ontology\n",
    "urionto=\"http://www.cs.ox.ac.uk/isg/ontologies/dbpedia.owl\"\n",
    "onto = get_ontology(urionto).load()\n",
    "\n",
    "print(\"Classes in DBpedia ontology: \" + str(len(list(onto.classes()))))\n",
    "\n",
    "#Print 10 classes\n",
    "i=0\n",
    "for cls in onto.classes():\n",
    "    if \"http://dbpedia.org/ontology/\" in cls.iri:\n",
    "        i=i+1\n",
    "        print(\"\\t\"+cls.iri)\n",
    "        if i==9:\n",
    "            break\n",
    "\n",
    "print(\"\\nTest successful!!\")"
   ]
  },
  {
   "cell_type": "markdown",
   "id": "3f3a1114",
   "metadata": {},
   "source": [
    "## Loads and queries a local RDF Knowledge Graph"
   ]
  },
  {
   "cell_type": "code",
   "execution_count": 3,
   "id": "3b6040d4",
   "metadata": {},
   "outputs": [
    {
     "name": "stdout",
     "output_type": "stream",
     "text": [
      "\n",
      "\n",
      "../files/nobelprize_kg.nt has '85797' triples.\n",
      "Female laureates:\n",
      "Marie Curie, née Sklodowska\n",
      "Maria Goeppert Mayer\n",
      "Irène Joliot-Curie\n",
      "Dorothy Crowfoot Hodgkin\n",
      "Gerty Theresa Cori, née Radnitz\n",
      "Rosalyn Yalow\n",
      "Barbara McClintock\n",
      "Rita Levi-Montalcini\n",
      "Gertrude B. Elion\n",
      "Christiane Nüsslein-Volhard\n",
      "Baroness Bertha Sophie Felicita von Suttner, née Countess Kinsky von Chinic und Tettau\n",
      "Jane Addams\n",
      "Emily Greene Balch\n",
      "Betty Williams\n",
      "Mairead Corrigan\n",
      "Mother Teresa \n",
      "Alva Myrdal\n",
      "Aung San Suu Kyi \n",
      "Rigoberta Menchú Tum\n",
      "Jody Williams\n",
      "Selma Ottilia Lovisa Lagerlöf\n",
      "Grazia Deledda\n",
      "Sigrid Undset\n",
      "Pearl Buck\n",
      "Gabriela Mistral\n",
      "Nelly Sachs\n",
      "Nadine Gordimer\n",
      "Toni Morrison\n",
      "Wislawa Szymborska\n",
      "Shirin Ebadi\n",
      "Linda B. Buck\n",
      "Elfriede Jelinek\n",
      "Wangari Muta Maathai\n",
      "Doris Lessing\n",
      "Françoise Barré-Sinoussi\n",
      "Elizabeth H. Blackburn\n",
      "Carol W. Greider\n",
      "Ada E. Yonath\n",
      "Herta Müller\n",
      "Elinor Ostrom\n",
      "Ellen Johnson Sirleaf\n",
      "Leymah Gbowee\n",
      "Tawakkol Karman\n",
      "Alice Munro\n",
      "May-Britt Moser\n",
      "Malala Yousafzai\n",
      "Youyou Tu\n",
      "Svetlana Alexievich\n",
      "\n",
      "Test successful!!\n"
     ]
    }
   ],
   "source": [
    "file=\"../files/nobelprize_kg.nt\"\n",
    "g = Graph()\n",
    "g.parse(file, format=\"nt\")\n",
    "    \n",
    "print(\"\\n\\n\" + file + \" has '\" + str(len(g)) + \"' triples.\")\n",
    "\n",
    "\n",
    "#SPARQL query\n",
    "nobelprize_query = \"\"\"\n",
    "SELECT DISTINCT ?x WHERE { \n",
    "    ?laur <http://www.w3.org/1999/02/22-rdf-syntax-ns#type> <http://data.nobelprize.org/terms/Laureate> . ?laur <http://www.w3.org/2000/01/rdf-schema#label> ?x . \n",
    "    ?laur <http://xmlns.com/foaf/0.1/gender> \\\"female\\\" . \n",
    "    }\"\"\"\n",
    "\n",
    "qres = g.query(nobelprize_query)\n",
    "\n",
    "print(\"Female laureates:\")\n",
    "for row in qres:\n",
    "    print(\"%s\" % row)\n",
    "    \n",
    "print(\"\\nTest successful!!\")"
   ]
  },
  {
   "cell_type": "markdown",
   "id": "1b923acf",
   "metadata": {},
   "source": [
    "## Queries remote Knowledge Graph via its Endpoint"
   ]
  },
  {
   "cell_type": "code",
   "execution_count": 4,
   "id": "39434208",
   "metadata": {},
   "outputs": [
    {
     "name": "stdout",
     "output_type": "stream",
     "text": [
      "\n",
      "Querying DBPedia Knowledge Graph (types of Chicago Bulls)\n",
      "http://www.w3.org/2002/07/owl#Thing\n",
      "http://schema.org/Organization\n",
      "http://schema.org/SportsTeam\n",
      "http://www.ontologydesignpatterns.org/ont/dul/DUL.owl#Agent\n",
      "http://www.ontologydesignpatterns.org/ont/dul/DUL.owl#SocialPerson\n",
      "http://dbpedia.org/ontology/Agent\n",
      "http://www.wikidata.org/entity/Q12973014\n",
      "http://www.wikidata.org/entity/Q24229398\n",
      "http://www.wikidata.org/entity/Q43229\n",
      "http://dbpedia.org/ontology/SportsTeam\n",
      "http://dbpedia.org/class/yago/WikicatBasketballClubsEstablishedIn1966\n",
      "http://dbpedia.org/class/yago/WikicatBasketballTeamsInTheUnitedStates\n",
      "http://dbpedia.org/class/yago/WikicatNationalBasketballAssociationTeams\n",
      "http://dbpedia.org/class/yago/WikicatSportsClubsEstablishedIn1966\n",
      "http://dbpedia.org/class/yago/Abstraction100002137\n",
      "http://dbpedia.org/class/yago/Association108049401\n",
      "http://dbpedia.org/class/yago/BasketballTeam108079852\n",
      "http://dbpedia.org/class/yago/Club108227214\n",
      "http://dbpedia.org/class/yago/Group100031264\n",
      "http://dbpedia.org/class/yago/Organization108008335\n",
      "http://dbpedia.org/class/yago/YagoLegalActor\n",
      "http://dbpedia.org/class/yago/YagoLegalActorGeo\n",
      "http://dbpedia.org/class/yago/YagoPermanentlyLocatedEntity\n",
      "http://dbpedia.org/ontology/BasketballTeam\n",
      "http://dbpedia.org/ontology/Organisation\n",
      "http://dbpedia.org/ontology/SoccerClub\n",
      "http://dbpedia.org/class/yago/SocialGroup107950920\n",
      "http://dbpedia.org/class/yago/Team108208560\n",
      "http://dbpedia.org/class/yago/Unit108189659\n",
      "\n",
      "Test successful!!\n"
     ]
    }
   ],
   "source": [
    "dbpedia_endpoint = \"http://dbpedia.org/sparql\"\n",
    "dbpedia_query = \"\"\"\n",
    "SELECT DISTINCT ?x WHERE { \n",
    "<http://dbpedia.org/resource/Chicago_Bulls> <http://www.w3.org/1999/02/22-rdf-syntax-ns#type> ?x . \n",
    "}\"\"\"\n",
    "\n",
    "sparqlw = SPARQLWrapper(dbpedia_endpoint)        \n",
    "sparqlw.setReturnFormat(JSON)\n",
    "    \n",
    "sparqlw.setQuery(dbpedia_query)\n",
    "            \n",
    "results = sparqlw.query().convert()\n",
    "       \n",
    "#Prints JSON file with results\n",
    "#print(results)\n",
    "                   \n",
    "\n",
    "print(\"\\nQuerying DBPedia Knowledge Graph (types of Chicago Bulls)\")\n",
    "    \n",
    "for result in results[\"results\"][\"bindings\"]:\n",
    "    #Prints individual results \n",
    "    print(result[\"x\"][\"value\"])\n",
    "\n",
    "    \n",
    "print(\"\\nTest successful!!\")"
   ]
  },
  {
   "cell_type": "code",
   "execution_count": null,
   "id": "2675bb54",
   "metadata": {},
   "outputs": [],
   "source": []
  }
 ],
 "metadata": {
  "kernelspec": {
   "display_name": "Python 3 (ipykernel)",
   "language": "python",
   "name": "python3"
  },
  "language_info": {
   "codemirror_mode": {
    "name": "ipython",
    "version": 3
   },
   "file_extension": ".py",
   "mimetype": "text/x-python",
   "name": "python",
   "nbconvert_exporter": "python",
   "pygments_lexer": "ipython3",
   "version": "3.12.8"
  }
 },
 "nbformat": 4,
 "nbformat_minor": 5
}
