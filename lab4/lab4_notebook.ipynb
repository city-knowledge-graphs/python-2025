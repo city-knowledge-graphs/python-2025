{
 "cells": [
  {
   "cell_type": "markdown",
   "id": "038159e3",
   "metadata": {},
   "source": [
    "### Dependencies"
   ]
  },
  {
   "cell_type": "code",
   "execution_count": 1,
   "id": "de46015f",
   "metadata": {},
   "outputs": [],
   "source": [
    "# Lexical similarity libraries\n",
    "import Levenshtein as lev \n",
    "from isub import isub\n",
    "# Look-ups\n",
    "from lookup import DBpediaLookup, WikidataAPI, GoogleKGLookup"
   ]
  },
  {
   "cell_type": "markdown",
   "id": "f94839fe",
   "metadata": {},
   "source": [
    "### Lexical similarity"
   ]
  },
  {
   "cell_type": "code",
   "execution_count": 2,
   "id": "3f9d230f",
   "metadata": {},
   "outputs": [
    {
     "name": "stdout",
     "output_type": "stream",
     "text": [
      "12\n",
      "0.4196078431372549\n",
      "0.8714285714285714\n",
      "0.7272727272727273\n",
      "0.8578947368421053\n"
     ]
    }
   ],
   "source": [
    "print(lev.distance('Congo', 'Republic of Congo'))\n",
    "print(lev.jaro_winkler('Congo', 'Republic of Congo'))\n",
    "print(lev.jaro_winkler('Congo', 'Congo Republic'))\n",
    "print(isub('Congo', 'Republic of Congo'))\n",
    "print(isub('Congo', 'Congo Republic'))"
   ]
  },
  {
   "cell_type": "markdown",
   "id": "ad833ffa",
   "metadata": {},
   "source": [
    "### Look-up services"
   ]
  },
  {
   "cell_type": "code",
   "execution_count": 3,
   "id": "fb64574c",
   "metadata": {},
   "outputs": [
    {
     "name": "stdout",
     "output_type": "stream",
     "text": [
      "Entities from Google KG for the keyword search: United Kingdom\n",
      "kg:/m/07ssc <id: kg:/m/07ssc, label: United Kingdom, description: Country in Europe, types: {'http://schema.org/Country', 'http://schema.org/AdministrativeArea', 'http://schema.org/Place'}, source: GoogleKG>\n",
      "kg:/m/01vbry <id: kg:/m/01vbry, label: Met Office, description: Government agency, types: {'http://schema.org/GovernmentOrganization', 'http://schema.org/Organization', 'http://schema.org/EducationalOrganization', 'http://schema.org/Corporation'}, source: GoogleKG>\n",
      "kg:/m/0xnc3 <id: kg:/m/0xnc3, label: Charles III, description: King of the United Kingdom, types: {'http://schema.org/Person'}, source: GoogleKG>\n",
      "kg:/m/0d1_f <id: kg:/m/0d1_f, label: Elizabeth II, description: Former Queen of the United Kingdom, types: {'http://schema.org/Person'}, source: GoogleKG>\n",
      "kg:/m/060s9 <id: kg:/m/060s9, label: Prime Minister of the United Kingdom, description: , types: set(), source: GoogleKG>\n"
     ]
    }
   ],
   "source": [
    "query=\"United Kingdom\"\n",
    "#Max entities to be returned\n",
    "limit=5\n",
    "\n",
    "print(\"Entities from Google KG for the keyword search: \" + query)\n",
    "kg = GoogleKGLookup()\n",
    "entities = kg.getKGEntities(query, limit)\n",
    "for ent in  entities:\n",
    "    print(ent.getId(), ent)"
   ]
  },
  {
   "cell_type": "code",
   "execution_count": 4,
   "id": "234938de",
   "metadata": {},
   "outputs": [
    {
     "name": "stdout",
     "output_type": "stream",
     "text": [
      "Entities from DBPedia for the keyword search: United Kingdom\n",
      "http://dbpedia.org/resource/United_Kingdom <id: http://dbpedia.org/resource/United_Kingdom, label: <B>United</B> <B>Kingdom</B>, description: ['The <B>United</B> <B>Kingdom</B> of Great Britain and Northern Ireland, commonly known as the <B>United</B> <B>Kingdom</B> (UK'], types: {'http://dbpedia.org/ontology/PopulatedPlace', 'http://dbpedia.org/ontology/Location', 'http://dbpedia.org/ontology/Country', 'http://dbpedia.org/ontology/Place'}, source: DBpedia>\n",
      "http://dbpedia.org/resource/London <id: http://dbpedia.org/resource/London, label: London, description: ['London is the capital and largest city of England and of the <B>United</B> <B>Kingdom</B>. Standing on the River'], types: {'http://dbpedia.org/ontology/PopulatedPlace', 'http://dbpedia.org/ontology/Settlement', 'http://dbpedia.org/ontology/Location', 'http://dbpedia.org/ontology/Place', 'http://dbpedia.org/ontology/City'}, source: DBpedia>\n",
      "http://dbpedia.org/resource/United_Kingdom_of_Great_Britain_and_Ireland <id: http://dbpedia.org/resource/United_Kingdom_of_Great_Britain_and_Ireland, label: <B>United</B> <B>Kingdom</B> of Great Britain and Ireland, description: [' Union 1800, which merged the <B>kingdoms</B> of Great Britain and Ireland. The <B>United</B> <B>Kingdom</B>, having'], types: {'http://dbpedia.org/ontology/PopulatedPlace', 'http://dbpedia.org/ontology/Location', 'http://dbpedia.org/ontology/Country', 'http://dbpedia.org/ontology/Place'}, source: DBpedia>\n",
      "http://dbpedia.org/resource/England <id: http://dbpedia.org/resource/England, label: England, description: ['England is a country that is part of the <B>United</B> <B>Kingdom</B>. It shares land borders with Wales to the'], types: set(), source: DBpedia>\n",
      "http://dbpedia.org/resource/Distinguished_Flying_Cross_(United_Kingdom) <id: http://dbpedia.org/resource/Distinguished_Flying_Cross_(United_Kingdom), label: Distinguished Flying Cross (<B>United</B> <B>Kingdom</B>), description: [\", and since 1993 to other ranks, of the <B>United</B> <B>Kingdom's</B> Royal Air Force and other services, and\"], types: set(), source: DBpedia>\n"
     ]
    }
   ],
   "source": [
    "dbpedia = DBpediaLookup()\n",
    "entities = dbpedia.getKGEntities(query, limit)\n",
    "print(\"Entities from DBPedia for the keyword search: \" + query)\n",
    "for ent in  entities:\n",
    "    print(ent.getId(), ent)"
   ]
  },
  {
   "cell_type": "code",
   "execution_count": 6,
   "id": "23eac727",
   "metadata": {},
   "outputs": [
    {
     "name": "stdout",
     "output_type": "stream",
     "text": [
      "Entities from Wikidata for the keyword search: United Kingdom\n",
      "http://www.wikidata.org/entity/Q145 <id: http://www.wikidata.org/entity/Q145, label: United Kingdom, description: country in north-west Europe, types: set(), source: Wikidata>\n",
      "http://www.wikidata.org/entity/Q174193 <id: http://www.wikidata.org/entity/Q174193, label: United Kingdom of Great Britain and Ireland, description: historical sovereign state (1801–1922), types: set(), source: Wikidata>\n",
      "http://www.wikidata.org/entity/Q7979 <id: http://www.wikidata.org/entity/Q7979, label: British English, description: forms of the English language used in Britain, types: set(), source: Wikidata>\n",
      "http://www.wikidata.org/entity/Q161885 <id: http://www.wikidata.org/entity/Q161885, label: Kingdom of Great Britain, description: constitutional monarchy in Western Europe (1707–1800), types: set(), source: Wikidata>\n",
      "http://www.wikidata.org/entity/Q11010 <id: http://www.wikidata.org/entity/Q11010, label: Parliament of the United Kingdom, description: supreme legislative body of the United Kingdom, types: set(), source: Wikidata>\n"
     ]
    }
   ],
   "source": [
    "wikidata = WikidataAPI()\n",
    "entities = wikidata.getKGEntities(query, limit, \"item\")\n",
    "print(\"Entities from Wikidata for the keyword search: \" + query)\n",
    "for ent in  entities:\n",
    "    print(ent.getId(), ent)"
   ]
  },
  {
   "cell_type": "code",
   "execution_count": null,
   "id": "d38ef1e1",
   "metadata": {},
   "outputs": [],
   "source": []
  }
 ],
 "metadata": {
  "kernelspec": {
   "display_name": "Python 3 (ipykernel)",
   "language": "python",
   "name": "python3"
  },
  "language_info": {
   "codemirror_mode": {
    "name": "ipython",
    "version": 3
   },
   "file_extension": ".py",
   "mimetype": "text/x-python",
   "name": "python",
   "nbconvert_exporter": "python",
   "pygments_lexer": "ipython3",
   "version": "3.12.9"
  }
 },
 "nbformat": 4,
 "nbformat_minor": 5
}
