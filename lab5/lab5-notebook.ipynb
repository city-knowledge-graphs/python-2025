{
 "cells": [
  {
   "cell_type": "markdown",
   "id": "66db4962",
   "metadata": {},
   "source": [
    "### Dependencies"
   ]
  },
  {
   "cell_type": "code",
   "execution_count": 1,
   "id": "98ae7b87",
   "metadata": {},
   "outputs": [],
   "source": [
    "from rdflib import Graph\n",
    "import owlrl"
   ]
  },
  {
   "cell_type": "markdown",
   "id": "ddf23066",
   "metadata": {},
   "source": [
    "### Reasoning with RDFS Semantics"
   ]
  },
  {
   "cell_type": "code",
   "execution_count": 2,
   "id": "722cc882",
   "metadata": {},
   "outputs": [
    {
     "name": "stdout",
     "output_type": "stream",
     "text": [
      "Loaded '30' triples.\n",
      "Rules after inference: '215' triples.\n",
      "Saving extended graph\n"
     ]
    },
    {
     "data": {
      "text/plain": [
       "<Graph identifier=Nd746a6c608b74f2287c0ddb827147620 (<class 'rdflib.graph.Graph'>)>"
      ]
     },
     "execution_count": 2,
     "metadata": {},
     "output_type": "execute_result"
    }
   ],
   "source": [
    "g1 = Graph()\n",
    "    \n",
    "g1.parse(\"data/lab5-rdfs.ttl\", format=\"ttl\")    \n",
    "    \n",
    "print(\"Loaded '\" + str(len(g1)) + \"' triples.\")\n",
    "    \n",
    "#Performs RDFS reasoning: expangs graph g1\n",
    "owlrl.DeductiveClosure(owlrl.RDFS_Semantics, axiomatic_triples=True, datatype_axioms=False).expand(g1)\n",
    "    \n",
    "print(\"Rules after inference: '\" + str(len(g1)) + \"' triples.\")\n",
    "    \n",
    "print(\"Saving extended graph\")\n",
    "g1.serialize(destination='data/lab5-rdfs-extended.ttl', format='ttl')"
   ]
  },
  {
   "cell_type": "markdown",
   "id": "ac1b9fc1",
   "metadata": {},
   "source": [
    "### Reasoning with OWL 2 RL"
   ]
  },
  {
   "cell_type": "code",
   "execution_count": 3,
   "id": "2fe76a20",
   "metadata": {},
   "outputs": [
    {
     "name": "stdout",
     "output_type": "stream",
     "text": [
      "Loaded '27' triples.\n",
      "Rules after inference: '1116' triples.\n",
      "Saving extended graph\n"
     ]
    },
    {
     "data": {
      "text/plain": [
       "<Graph identifier=N8612afd524aa401b814937b970a4558f (<class 'rdflib.graph.Graph'>)>"
      ]
     },
     "execution_count": 3,
     "metadata": {},
     "output_type": "execute_result"
    }
   ],
   "source": [
    "g2 = Graph()\n",
    "    \n",
    "g2.parse(\"data/lab5-owl2rl.ttl\", format=\"ttl\")\n",
    "    \n",
    "print(\"Loaded '\" + str(len(g2)) + \"' triples.\")\n",
    "    \n",
    "#Performs OWL 2 RL reasoning: expangs graph g2\n",
    "owlrl.DeductiveClosure(owlrl.OWLRL_Semantics, axiomatic_triples=True, datatype_axioms=False).expand(g2)  \n",
    "    \n",
    "print(\"Rules after inference: '\" + str(len(g2)) + \"' triples.\")\n",
    "        \n",
    "print(\"Saving extended graph\")\n",
    "g2.serialize(destination='data/lab5-owl2rl-extended.ttl', format='ttl')\n",
    "    "
   ]
  },
  {
   "cell_type": "markdown",
   "id": "69cf439d",
   "metadata": {},
   "source": [
    "### Method to check if a triple holds in the graph"
   ]
  },
  {
   "cell_type": "code",
   "execution_count": 4,
   "id": "4646c7d7",
   "metadata": {},
   "outputs": [],
   "source": [
    "def checkEntailment(g, triple):\n",
    "    \n",
    "    #We use an ASK query instead of a select. It could be done with SELETCT and then checking that the results are not empty \n",
    "    qres = g.query(\n",
    "    \"\"\"ASK {\"\"\" + triple + \"\"\" }\"\"\")\n",
    "\n",
    "    #Single row with one boolean vale: True or False\n",
    "    for row in qres:\n",
    "        print(\"Does '\" + triple + \"' hold? \" + str(row))"
   ]
  },
  {
   "cell_type": "markdown",
   "id": "18c8c47f",
   "metadata": {},
   "source": [
    "### Check if statements hold in g1 (with RDFS Semantics)"
   ]
  },
  {
   "cell_type": "code",
   "execution_count": 6,
   "id": "6da8cd02",
   "metadata": {},
   "outputs": [
    {
     "name": "stdout",
     "output_type": "stream",
     "text": [
      "Does ':Father rdfs:subClassOf :Person .' hold? True\n"
     ]
    }
   ],
   "source": [
    "triple1 = \":Father rdfs:subClassOf :Person .\" \n",
    "checkEntailment(g1, triple1)"
   ]
  },
  {
   "cell_type": "markdown",
   "id": "4459f8aa",
   "metadata": {},
   "source": [
    "### Check if statements hold in g2 (with OWL 2 RL Semantics)"
   ]
  },
  {
   "cell_type": "code",
   "execution_count": 7,
   "id": "fcd7877e",
   "metadata": {},
   "outputs": [
    {
     "name": "stdout",
     "output_type": "stream",
     "text": [
      "Does ':Carl :hasChild :Ann .' hold? True\n"
     ]
    }
   ],
   "source": [
    "triple1 = \":Carl :hasChild :Ann .\"\n",
    "checkEntailment(g2, triple1)"
   ]
  },
  {
   "cell_type": "code",
   "execution_count": null,
   "id": "04477f34",
   "metadata": {},
   "outputs": [],
   "source": []
  }
 ],
 "metadata": {
  "kernelspec": {
   "display_name": "Python 3 (ipykernel)",
   "language": "python",
   "name": "python3"
  },
  "language_info": {
   "codemirror_mode": {
    "name": "ipython",
    "version": 3
   },
   "file_extension": ".py",
   "mimetype": "text/x-python",
   "name": "python",
   "nbconvert_exporter": "python",
   "pygments_lexer": "ipython3",
   "version": "3.10.12"
  }
 },
 "nbformat": 4,
 "nbformat_minor": 5
}
