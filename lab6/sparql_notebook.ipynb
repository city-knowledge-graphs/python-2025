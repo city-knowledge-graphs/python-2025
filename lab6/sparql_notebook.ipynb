{
 "cells": [
  {
   "cell_type": "markdown",
   "id": "864adb31",
   "metadata": {},
   "source": [
    "### Requirements/Libraries\n"
   ]
  },
  {
   "cell_type": "code",
   "execution_count": 1,
   "id": "ac6e5308",
   "metadata": {},
   "outputs": [],
   "source": [
    "from rdflib import Graph\n",
    "from SPARQLWrapper import SPARQLWrapper, JSON"
   ]
  },
  {
   "cell_type": "markdown",
   "id": "5a27e22c",
   "metadata": {},
   "source": [
    "### Query local Playground dataset"
   ]
  },
  {
   "cell_type": "code",
   "execution_count": 5,
   "id": "e36a6103",
   "metadata": {},
   "outputs": [
    {
     "name": "stdout",
     "output_type": "stream",
     "text": [
      "Loaded '73' triples.\n",
      "Query results (Females):\n",
      "http://example.org/tuto/resource#Eve is female with name 'Eve'\n",
      "http://example.org/tuto/resource#LunaCat is female with name 'Luna'\n",
      "Query results, Females (query from file):\n",
      "http://example.org/tuto/resource#Eve is female with name 'Eve'\n",
      "http://example.org/tuto/resource#LunaCat is female with name 'Luna'\n"
     ]
    }
   ],
   "source": [
    "#Loads KG\n",
    "g = Graph()\n",
    "g.parse(\"./data/playground.ttl\", format=\"ttl\")\n",
    "\n",
    "print(\"Loaded '\" + str(len(g)) + \"' triples.\")\n",
    "\n",
    "print(\"Query results (Females):\")\n",
    "\n",
    "qres = g.query(\n",
    "\"\"\"SELECT ?thing ?name where {\n",
    "  ?thing tto:sex \"female\" .\n",
    "  ?thing dbp:name ?name .\n",
    "}\"\"\")\n",
    "\n",
    "for row in qres:\n",
    "    #Row is a list of matched RDF terms: URIs, literals or blank nodes\n",
    "    print(\"%s is female with name '%s'\" % (str(row.thing),str(row.name)))\n",
    "\n",
    "#Same but with loading a query from a file\n",
    "print(\"Query results, Females (query from file):\")\n",
    "query_file = \"./data/query.txt\"\n",
    "query = open(query_file, 'r').read()\n",
    "    \n",
    "qres = g.query(query)\n",
    "    \n",
    "for row in qres:\n",
    "    #Row is a list of matched RDF terms: URIs, literals or blank nodes\n",
    "    print(\"%s is female with name '%s'\" % (str(row.thing),str(row.name)))"
   ]
  },
  {
   "cell_type": "markdown",
   "id": "237a67da",
   "metadata": {},
   "source": [
    "### Query local Nobel Prize dataset"
   ]
  },
  {
   "cell_type": "code",
   "execution_count": 6,
   "id": "c7fa4288",
   "metadata": {},
   "outputs": [
    {
     "name": "stdout",
     "output_type": "stream",
     "text": [
      "Loaded '85797' triples.\n",
      "Female laureates (printing 10):\n",
      "'Marie Curie, née Sklodowska'\n",
      "'Maria Goeppert Mayer'\n",
      "'Irène Joliot-Curie'\n",
      "'Dorothy Crowfoot Hodgkin'\n",
      "'Gerty Theresa Cori, née Radnitz'\n",
      "'Rosalyn Yalow'\n",
      "'Barbara McClintock'\n",
      "'Rita Levi-Montalcini'\n",
      "'Gertrude B. Elion'\n",
      "'Christiane Nüsslein-Volhard'\n"
     ]
    }
   ],
   "source": [
    "#Loads KG\n",
    "g = Graph()\n",
    "g.parse(\"../files/nobelprize_kg.nt\", format=\"nt\")\n",
    "  \n",
    "print(\"Loaded '\" + str(len(g)) + \"' triples.\")\n",
    "\n",
    "#Query with prefixes \n",
    "nobelprize_query = \"\"\"\n",
    "PREFIX nobel: <http://data.nobelprize.org/terms/>\n",
    "PREFIX foaf: <http://xmlns.com/foaf/0.1/>\n",
    "PREFIX rdfs: <http://www.w3.org/2000/01/rdf-schema#>\n",
    "PREFIX rdf: <http://www.w3.org/1999/02/22-rdf-syntax-ns#>\n",
    "SELECT DISTINCT ?name_laur WHERE { \n",
    "?laur rdf:type nobel:Laureate . \n",
    "?laur rdfs:label ?name_laur . \n",
    "?laur foaf:gender \"female\" . }\n",
    "LIMIT 10\n",
    "\"\"\"\n",
    "\n",
    "qres = g.query(nobelprize_query)\n",
    "\n",
    "print(\"Female laureates (printing 10):\")\n",
    "for row in qres:\n",
    "    #Row is a list of matched RDF terms: URIs, literals or blank nodes\n",
    "    print(\"'%s'\" % (str(row.name_laur))) #Same name as in sparql query SELECT variable\n"
   ]
  },
  {
   "cell_type": "markdown",
   "id": "50b33b3e",
   "metadata": {},
   "source": [
    "\n",
    "### Query remote dataset via SPARQL Enpoint"
   ]
  },
  {
   "cell_type": "code",
   "execution_count": 7,
   "id": "a2cee1e5",
   "metadata": {},
   "outputs": [
    {
     "name": "stdout",
     "output_type": "stream",
     "text": [
      "Stars co-starring Johnny Depp (limit to 10):\n",
      "\n",
      "Abigail Breslin\n",
      "Aidan Quinn\n",
      "Al Pacino\n",
      "Alain Chabat\n",
      "Alan Arkin\n",
      "Albert Tsai\n",
      "Aleksandr Kuznetsov\n",
      "Alfred Molina\n",
      "Alison Sudol\n"
     ]
    }
   ],
   "source": [
    "#Remote service\n",
    "endpoint_url = \"http://dbpedia.org/sparql\"\n",
    "sparqlw = SPARQLWrapper(endpoint_url)\n",
    "sparqlw.setReturnFormat(JSON)\n",
    "\n",
    "\n",
    "query = \"\"\"\n",
    "PREFIX foaf: <http://xmlns.com/foaf/0.1/> \n",
    "PREFIX dbo: <http://dbpedia.org/ontology/> \n",
    "SELECT DISTINCT ?x WHERE { \n",
    "?jd foaf:name \\\"Johnny Depp\\\"@en . \n",
    "?m dbo:starring ?jd .\n",
    "?m dbo:starring ?other . \n",
    "?other foaf:name ?x . \n",
    "FILTER (STR(?x)!=\\\"Johnny Depp\\\")\n",
    "} \n",
    "ORDER BY ?x\n",
    "LIMIT 10\n",
    "\"\"\"\n",
    "\n",
    "sparqlw.setQuery(query)\n",
    "\n",
    "results = sparqlw.query().convert()\n",
    "\n",
    "#Prints JSON file\n",
    "#print(results)   \n",
    "\n",
    "print(\"Stars co-starring Johnny Depp (limit to 10):\")\n",
    "\n",
    "for result in results[\"results\"][\"bindings\"]:\n",
    "    #Prints individual results \n",
    "    print(result[\"x\"][\"value\"])\n",
    "  "
   ]
  },
  {
   "cell_type": "markdown",
   "id": "1d46119b",
   "metadata": {},
   "source": [
    "### Query World Cities Dataset"
   ]
  },
  {
   "cell_type": "code",
   "execution_count": 8,
   "id": "65071547",
   "metadata": {},
   "outputs": [
    {
     "name": "stdout",
     "output_type": "stream",
     "text": [
      "Loaded '914' triples.\n",
      "Cities:\n",
      "http://www.semanticweb.org/ernesto/in3067-inm713/wco/ahmadabad is a City\n",
      "http://www.semanticweb.org/ernesto/in3067-inm713/wco/bangalore is a City\n",
      "http://www.semanticweb.org/ernesto/in3067-inm713/wco/bangkok is a City\n",
      "http://www.semanticweb.org/ernesto/in3067-inm713/wco/baoding is a City\n",
      "http://www.semanticweb.org/ernesto/in3067-inm713/wco/beijing is a City\n",
      "http://www.semanticweb.org/ernesto/in3067-inm713/wco/bijie is a City\n",
      "http://www.semanticweb.org/ernesto/in3067-inm713/wco/bogota is a City\n",
      "http://www.semanticweb.org/ernesto/in3067-inm713/wco/buenos_aires is a City\n",
      "http://www.semanticweb.org/ernesto/in3067-inm713/wco/cairo is a City\n",
      "http://www.semanticweb.org/ernesto/in3067-inm713/wco/cangzhou is a City\n"
     ]
    }
   ],
   "source": [
    "#Loads KG\n",
    "g = Graph()\n",
    "g.parse(\"./data/worldcities-free-100-task1.ttl\", format=\"ttl\")\n",
    "  \n",
    "    \n",
    "print(\"Loaded '\" + str(len(g)) + \"' triples.\")\n",
    "    \n",
    "\n",
    "print(\"Cities:\")\n",
    "    \n",
    "qres = g.query(\n",
    "\"\"\"SELECT ?city where {\n",
    "   ?city rdf:type wco:City .      \n",
    "}\n",
    "LIMIT 10\n",
    "\"\"\")\n",
    "    \n",
    "for row in qres:\n",
    "    #Row is a list of matched RDF terms: URIs, literals or blank nodes\n",
    "    print(\"%s is a City\" % (str(row.city)))\n"
   ]
  },
  {
   "cell_type": "code",
   "execution_count": null,
   "id": "c6a77928",
   "metadata": {},
   "outputs": [],
   "source": []
  }
 ],
 "metadata": {
  "kernelspec": {
   "display_name": "Python 3 (ipykernel)",
   "language": "python",
   "name": "python3"
  },
  "language_info": {
   "codemirror_mode": {
    "name": "ipython",
    "version": 3
   },
   "file_extension": ".py",
   "mimetype": "text/x-python",
   "name": "python",
   "nbconvert_exporter": "python",
   "pygments_lexer": "ipython3",
   "version": "3.12.9"
  }
 },
 "nbformat": 4,
 "nbformat_minor": 5
}
