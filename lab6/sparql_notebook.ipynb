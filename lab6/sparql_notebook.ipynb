{
 "cells": [
  {
   "cell_type": "markdown",
   "id": "864adb31",
   "metadata": {},
   "source": [
    "### Requirements/Libraries\n"
   ]
  },
  {
   "cell_type": "code",
   "execution_count": 13,
   "id": "ac6e5308",
   "metadata": {},
   "outputs": [],
   "source": [
    "from rdflib import Graph\n",
    "from SPARQLWrapper import SPARQLWrapper, JSON\n",
    "from rdflib.util import guess_format\n",
    "import owlrl"
   ]
  },
  {
   "cell_type": "markdown",
   "id": "5a27e22c",
   "metadata": {},
   "source": [
    "### Query local Playground dataset"
   ]
  },
  {
   "cell_type": "code",
   "execution_count": 3,
   "id": "e36a6103",
   "metadata": {},
   "outputs": [
    {
     "name": "stdout",
     "output_type": "stream",
     "text": [
      "Loaded '73' triples.\n",
      "Query results (Females):\n",
      "http://example.org/tuto/resource#Eve is female with name 'Eve'\n",
      "http://example.org/tuto/resource#LunaCat is female with name 'Luna'\n",
      "Query results, Females (query from file):\n",
      "http://example.org/tuto/resource#Eve is female with name 'Eve'\n",
      "http://example.org/tuto/resource#LunaCat is female with name 'Luna'\n"
     ]
    }
   ],
   "source": [
    "#Loads KG\n",
    "g = Graph()\n",
    "g.parse(\"./data/playground.ttl\", format=\"ttl\")\n",
    "\n",
    "print(\"Loaded '\" + str(len(g)) + \"' triples.\")\n",
    "\n",
    "print(\"Query results (Females):\")\n",
    "\n",
    "qres = g.query(\n",
    "\"\"\"SELECT ?thing ?name where {\n",
    "  ?thing tto:sex \"female\" .\n",
    "  ?thing dbp:name ?name .\n",
    "}\"\"\")\n",
    "\n",
    "for row in qres:\n",
    "    #Row is a list of matched RDF terms: URIs, literals or blank nodes\n",
    "    print(\"%s is female with name '%s'\" % (str(row.thing),str(row.name)))\n",
    "\n",
    "#Same but with loading a query from a file\n",
    "print(\"Query results, Females (query from file):\")\n",
    "query_file = \"./data/query.txt\"\n",
    "query = open(query_file, 'r').read()\n",
    "    \n",
    "qres = g.query(query)\n",
    "    \n",
    "for row in qres:\n",
    "    #Row is a list of matched RDF terms: URIs, literals or blank nodes\n",
    "    print(\"%s is female with name '%s'\" % (str(row.thing),str(row.name)))"
   ]
  },
  {
   "cell_type": "markdown",
   "id": "237a67da",
   "metadata": {},
   "source": [
    "### Query local Nobel Prize dataset"
   ]
  },
  {
   "cell_type": "code",
   "execution_count": 4,
   "id": "c7fa4288",
   "metadata": {},
   "outputs": [
    {
     "name": "stdout",
     "output_type": "stream",
     "text": [
      "Loaded '85797' triples.\n",
      "Female laureates (printing 10):\n",
      "'Marie Curie, née Sklodowska'\n",
      "'Maria Goeppert Mayer'\n",
      "'Irène Joliot-Curie'\n",
      "'Dorothy Crowfoot Hodgkin'\n",
      "'Gerty Theresa Cori, née Radnitz'\n",
      "'Rosalyn Yalow'\n",
      "'Barbara McClintock'\n",
      "'Rita Levi-Montalcini'\n",
      "'Gertrude B. Elion'\n",
      "'Christiane Nüsslein-Volhard'\n"
     ]
    }
   ],
   "source": [
    "#Loads KG\n",
    "g = Graph()\n",
    "g.parse(\"../files/nobelprize_kg.nt\", format=\"nt\")\n",
    "  \n",
    "print(\"Loaded '\" + str(len(g)) + \"' triples.\")\n",
    "\n",
    "#Query with prefixes \n",
    "nobelprize_query = \"\"\"\n",
    "PREFIX nobel: <http://data.nobelprize.org/terms/>\n",
    "PREFIX foaf: <http://xmlns.com/foaf/0.1/>\n",
    "PREFIX rdfs: <http://www.w3.org/2000/01/rdf-schema#>\n",
    "PREFIX rdf: <http://www.w3.org/1999/02/22-rdf-syntax-ns#>\n",
    "SELECT DISTINCT ?name_laur WHERE { \n",
    "?laur rdf:type nobel:Laureate . \n",
    "?laur rdfs:label ?name_laur . \n",
    "?laur foaf:gender \"female\" . }\n",
    "LIMIT 10\n",
    "\"\"\"\n",
    "\n",
    "qres = g.query(nobelprize_query)\n",
    "\n",
    "print(\"Female laureates (printing 10):\")\n",
    "for row in qres:\n",
    "    #Row is a list of matched RDF terms: URIs, literals or blank nodes\n",
    "    print(\"'%s'\" % (str(row.name_laur))) #Same name as in sparql query SELECT variable\n"
   ]
  },
  {
   "cell_type": "markdown",
   "id": "50b33b3e",
   "metadata": {},
   "source": [
    "\n",
    "### Query remote dataset via SPARQL Enpoint"
   ]
  },
  {
   "cell_type": "code",
   "execution_count": 5,
   "id": "a2cee1e5",
   "metadata": {},
   "outputs": [
    {
     "name": "stdout",
     "output_type": "stream",
     "text": [
      "Stars co-starring Johnny Depp (limit to 10):\n",
      "\n",
      "Abigail Breslin\n",
      "Aidan Quinn\n",
      "Al Pacino\n",
      "Alain Chabat\n",
      "Alan Arkin\n",
      "Albert Tsai\n",
      "Aleksandr Kuznetsov\n",
      "Alfred Molina\n",
      "Alison Sudol\n"
     ]
    }
   ],
   "source": [
    "#Remote service\n",
    "endpoint_url = \"http://dbpedia.org/sparql\"\n",
    "sparqlw = SPARQLWrapper(endpoint_url)\n",
    "sparqlw.setReturnFormat(JSON)\n",
    "\n",
    "\n",
    "query = \"\"\"\n",
    "PREFIX foaf: <http://xmlns.com/foaf/0.1/> \n",
    "PREFIX dbo: <http://dbpedia.org/ontology/> \n",
    "SELECT DISTINCT ?x WHERE { \n",
    "?jd foaf:name \\\"Johnny Depp\\\"@en . \n",
    "?m dbo:starring ?jd .\n",
    "?m dbo:starring ?other . \n",
    "?other foaf:name ?x . \n",
    "FILTER (STR(?x)!=\\\"Johnny Depp\\\")\n",
    "} \n",
    "ORDER BY ?x\n",
    "LIMIT 10\n",
    "\"\"\"\n",
    "\n",
    "sparqlw.setQuery(query)\n",
    "\n",
    "results = sparqlw.query().convert()\n",
    "\n",
    "#Prints JSON file\n",
    "#print(results)   \n",
    "\n",
    "print(\"Stars co-starring Johnny Depp (limit to 10):\")\n",
    "\n",
    "for result in results[\"results\"][\"bindings\"]:\n",
    "    #Prints individual results \n",
    "    print(result[\"x\"][\"value\"])\n",
    "  "
   ]
  },
  {
   "cell_type": "markdown",
   "id": "1d46119b",
   "metadata": {},
   "source": [
    "### Query World Cities Dataset"
   ]
  },
  {
   "cell_type": "code",
   "execution_count": 6,
   "id": "65071547",
   "metadata": {},
   "outputs": [
    {
     "name": "stdout",
     "output_type": "stream",
     "text": [
      "Loaded '914' triples.\n",
      "Cities:\n",
      "http://www.semanticweb.org/ernesto/in3067-inm713/wco/ahmadabad is a City\n",
      "http://www.semanticweb.org/ernesto/in3067-inm713/wco/bangalore is a City\n",
      "http://www.semanticweb.org/ernesto/in3067-inm713/wco/bangkok is a City\n",
      "http://www.semanticweb.org/ernesto/in3067-inm713/wco/baoding is a City\n",
      "http://www.semanticweb.org/ernesto/in3067-inm713/wco/beijing is a City\n",
      "http://www.semanticweb.org/ernesto/in3067-inm713/wco/bijie is a City\n",
      "http://www.semanticweb.org/ernesto/in3067-inm713/wco/bogota is a City\n",
      "http://www.semanticweb.org/ernesto/in3067-inm713/wco/buenos_aires is a City\n",
      "http://www.semanticweb.org/ernesto/in3067-inm713/wco/cairo is a City\n",
      "http://www.semanticweb.org/ernesto/in3067-inm713/wco/cangzhou is a City\n"
     ]
    }
   ],
   "source": [
    "#Loads KG\n",
    "g = Graph()\n",
    "g.parse(\"./data/worldcities-free-100-task1.ttl\", format=\"ttl\")\n",
    "  \n",
    "    \n",
    "print(\"Loaded '\" + str(len(g)) + \"' triples.\")\n",
    "    \n",
    "\n",
    "print(\"Cities:\")\n",
    "    \n",
    "qres = g.query(\n",
    "\"\"\"SELECT ?city where {\n",
    "   ?city rdf:type wco:City .      \n",
    "}\n",
    "LIMIT 10\n",
    "\"\"\")\n",
    "    \n",
    "for row in qres:\n",
    "    #Row is a list of matched RDF terms: URIs, literals or blank nodes\n",
    "    print(\"%s is a City\" % (str(row.city)))\n"
   ]
  },
  {
   "cell_type": "markdown",
   "id": "291bf071",
   "metadata": {},
   "source": [
    "### Query World Cities Dataset: reasoning and CSV output"
   ]
  },
  {
   "cell_type": "code",
   "execution_count": 7,
   "id": "e962f265",
   "metadata": {},
   "outputs": [],
   "source": [
    "#Solution reasoning\n",
    "def performReasoning(g, ontology_file):\n",
    "\n",
    "    #We expand the graph with the inferred triples\n",
    "    #We use owlrl library with OWL2 RL Semantics\n",
    "\n",
    "\n",
    "    #We should load the ontology first\n",
    "    g.parse(ontology_file,  format=guess_format(ontology_file)) #e.g., format=ttl\n",
    "\n",
    "    print(\"Triples including ontology: '\" + str(len(g)) + \"'.\")\n",
    "\n",
    "\n",
    "    #We apply reasoning and expand the graph with new triples \n",
    "    owlrl.DeductiveClosure(owlrl.OWLRL_Semantics, axiomatic_triples=False, datatype_axioms=False).expand(g)\n",
    "\n",
    "    print(\"Triples after OWL 2 RL reasoning: '\" + str(len(g)) + \"'.\")\n",
    "\n",
    "\n",
    "#Solution query results to CSV\n",
    "def performSPARQLQuery(g, file_query_out):\n",
    "\n",
    "    qres = g.query(\n",
    "        \"\"\"SELECT DISTINCT ?country ?city ?pop WHERE {\n",
    "            ?city rdf:type wco:City .\n",
    "            ?city wco:isCapitalOf ?country .\n",
    "            ?city wco:population ?pop .\n",
    "            FILTER (xsd:integer(?pop) > 5000000)\n",
    "    }\n",
    "    ORDER BY DESC(?pop)\n",
    "    \"\"\")\n",
    "\n",
    "\n",
    "    print(\"%s capitals satisfying the query.\" % (str(len(qres))))\n",
    "    print(\"Saving the following lines in the CSV file '%s'.\" % file_query_out)\n",
    "\n",
    "    f_out = open(file_query_out,\"w+\")\n",
    "\n",
    "    for row in qres:\n",
    "        #Row is a list of matched RDF terms: URIs, literals or blank nodes\n",
    "        line_str = '\\\"%s\\\",\\\"%s\\\",\\\"%s\\\"\\n' % (row.country, row.city, row.pop)\n",
    "        print(line_str)\n",
    "\n",
    "        f_out.write(line_str)\n",
    "\n",
    "    f_out.close()\n"
   ]
  },
  {
   "cell_type": "code",
   "execution_count": 14,
   "id": "ee88042d",
   "metadata": {},
   "outputs": [
    {
     "name": "stdout",
     "output_type": "stream",
     "text": [
      "Triples including ontology: '1027'.\n",
      "Triples after OWL 2 RL reasoning: '3748'.\n"
     ]
    }
   ],
   "source": [
    "#Solution Reasoning\n",
    "performReasoning(g, \"./data/ontology_worldcities.ttl\")"
   ]
  },
  {
   "cell_type": "code",
   "execution_count": 15,
   "id": "0c654dbe",
   "metadata": {},
   "outputs": [
    {
     "name": "stdout",
     "output_type": "stream",
     "text": [
      "24 capitals satisfying the query.\n",
      "Saving the following lines in the CSV file './data/query_result_world_cities.csv'.\n",
      "\"http://www.semanticweb.org/ernesto/in3067-inm713/wco/japan\",\"http://www.semanticweb.org/ernesto/in3067-inm713/wco/tokyo\",\"37977000\"\n",
      "\n",
      "\"http://www.semanticweb.org/ernesto/in3067-inm713/wco/indonesia\",\"http://www.semanticweb.org/ernesto/in3067-inm713/wco/jakarta\",\"34540000\"\n",
      "\n",
      "\"http://www.semanticweb.org/ernesto/in3067-inm713/wco/philippines\",\"http://www.semanticweb.org/ernesto/in3067-inm713/wco/manila\",\"23088000\"\n",
      "\n",
      "\"http://www.semanticweb.org/ernesto/in3067-inm713/wco/korea,_south\",\"http://www.semanticweb.org/ernesto/in3067-inm713/wco/seoul\",\"21794000\"\n",
      "\n",
      "\"http://www.semanticweb.org/ernesto/in3067-inm713/wco/mexico\",\"http://www.semanticweb.org/ernesto/in3067-inm713/wco/mexico_city\",\"20996000\"\n",
      "\n",
      "\"http://www.semanticweb.org/ernesto/in3067-inm713/wco/china\",\"http://www.semanticweb.org/ernesto/in3067-inm713/wco/beijing\",\"19433000\"\n",
      "\n",
      "\"http://www.semanticweb.org/ernesto/in3067-inm713/wco/egypt\",\"http://www.semanticweb.org/ernesto/in3067-inm713/wco/cairo\",\"19372000\"\n",
      "\n",
      "\"http://www.semanticweb.org/ernesto/in3067-inm713/wco/russia\",\"http://www.semanticweb.org/ernesto/in3067-inm713/wco/moscow\",\"17125000\"\n",
      "\n",
      "\"http://www.semanticweb.org/ernesto/in3067-inm713/wco/thailand\",\"http://www.semanticweb.org/ernesto/in3067-inm713/wco/bangkok\",\"17066000\"\n",
      "\n",
      "\"http://www.semanticweb.org/ernesto/in3067-inm713/wco/argentina\",\"http://www.semanticweb.org/ernesto/in3067-inm713/wco/buenos_aires\",\"16157000\"\n",
      "\n",
      "\"http://www.semanticweb.org/ernesto/in3067-inm713/wco/bangladesh\",\"http://www.semanticweb.org/ernesto/in3067-inm713/wco/dhaka\",\"15443000\"\n",
      "\n",
      "\"http://www.semanticweb.org/ernesto/in3067-inm713/wco/iran\",\"http://www.semanticweb.org/ernesto/in3067-inm713/wco/tehran\",\"13633000\"\n",
      "\n",
      "\"http://www.semanticweb.org/ernesto/in3067-inm713/wco/congo_kinshasa\",\"http://www.semanticweb.org/ernesto/in3067-inm713/wco/kinshasa\",\"13528000\"\n",
      "\n",
      "\"http://www.semanticweb.org/ernesto/in3067-inm713/wco/france\",\"http://www.semanticweb.org/ernesto/in3067-inm713/wco/paris\",\"11020000\"\n",
      "\n",
      "\"http://www.semanticweb.org/ernesto/in3067-inm713/wco/united_kingdom\",\"http://www.semanticweb.org/ernesto/in3067-inm713/wco/london\",\"10979000\"\n",
      "\n",
      "\"http://www.semanticweb.org/ernesto/in3067-inm713/wco/peru\",\"http://www.semanticweb.org/ernesto/in3067-inm713/wco/lima\",\"9848000\"\n",
      "\n",
      "\"http://www.semanticweb.org/ernesto/in3067-inm713/wco/colombia\",\"http://www.semanticweb.org/ernesto/in3067-inm713/wco/bogota\",\"9464000\"\n",
      "\n",
      "\"http://www.semanticweb.org/ernesto/in3067-inm713/wco/angola\",\"http://www.semanticweb.org/ernesto/in3067-inm713/wco/luanda\",\"8417000\"\n",
      "\n",
      "\"http://www.semanticweb.org/ernesto/in3067-inm713/wco/malaysia\",\"http://www.semanticweb.org/ernesto/in3067-inm713/wco/kuala_lumpur\",\"8285000\"\n",
      "\n",
      "\"http://www.semanticweb.org/ernesto/in3067-inm713/wco/vietnam\",\"http://www.semanticweb.org/ernesto/in3067-inm713/wco/hanoi\",\"7785000\"\n",
      "\n",
      "\"http://www.semanticweb.org/ernesto/in3067-inm713/wco/sudan\",\"http://www.semanticweb.org/ernesto/in3067-inm713/wco/khartoum\",\"7282000\"\n",
      "\n",
      "\"http://www.semanticweb.org/ernesto/in3067-inm713/wco/chile\",\"http://www.semanticweb.org/ernesto/in3067-inm713/wco/santiago\",\"7007000\"\n",
      "\n",
      "\"http://www.semanticweb.org/ernesto/in3067-inm713/wco/saudi_arabia\",\"http://www.semanticweb.org/ernesto/in3067-inm713/wco/riyadh\",\"6881000\"\n",
      "\n",
      "\"http://www.semanticweb.org/ernesto/in3067-inm713/wco/tanzania\",\"http://www.semanticweb.org/ernesto/in3067-inm713/wco/dar_es_salaam\",\"6698000\"\n",
      "\n"
     ]
    }
   ],
   "source": [
    "#Solution Query to CSV\n",
    "performSPARQLQuery(g, \"./data/query_result_world_cities.csv\")"
   ]
  },
  {
   "cell_type": "code",
   "execution_count": null,
   "id": "b5e74682",
   "metadata": {},
   "outputs": [],
   "source": []
  }
 ],
 "metadata": {
  "kernelspec": {
   "display_name": "Python 3 (ipykernel)",
   "language": "python",
   "name": "python3"
  },
  "language_info": {
   "codemirror_mode": {
    "name": "ipython",
    "version": 3
   },
   "file_extension": ".py",
   "mimetype": "text/x-python",
   "name": "python",
   "nbconvert_exporter": "python",
   "pygments_lexer": "ipython3",
   "version": "3.10.12"
  }
 },
 "nbformat": 4,
 "nbformat_minor": 5
}
