{
 "cells": [
  {
   "cell_type": "markdown",
   "id": "02b1f841",
   "metadata": {},
   "source": [
    "### Dependencies"
   ]
  },
  {
   "cell_type": "code",
   "execution_count": 1,
   "id": "0226d9e7",
   "metadata": {},
   "outputs": [
    {
     "ename": "ModuleNotFoundError",
     "evalue": "No module named 'SPARQLWrapper'",
     "output_type": "error",
     "traceback": [
      "\u001b[0;31m---------------------------------------------------------------------------\u001b[0m",
      "\u001b[0;31mModuleNotFoundError\u001b[0m                       Traceback (most recent call last)",
      "Cell \u001b[0;32mIn[1], line 8\u001b[0m\n\u001b[1;32m      1\u001b[0m \u001b[38;5;124;03m'''\u001b[39;00m\n\u001b[1;32m      2\u001b[0m \u001b[38;5;124;03mCreated on 29 Mar 2021\u001b[39;00m\n\u001b[1;32m      3\u001b[0m \u001b[38;5;124;03mModified April 2025 \u001b[39;00m\n\u001b[1;32m      4\u001b[0m \n\u001b[1;32m      5\u001b[0m \u001b[38;5;124;03m@author: ejimenez-ruiz\u001b[39;00m\n\u001b[1;32m      6\u001b[0m \u001b[38;5;124;03m'''\u001b[39;00m\n\u001b[0;32m----> 8\u001b[0m \u001b[38;5;28;01mfrom\u001b[39;00m\u001b[38;5;250m \u001b[39m\u001b[38;5;21;01mSPARQLWrapper\u001b[39;00m\u001b[38;5;250m \u001b[39m\u001b[38;5;28;01mimport\u001b[39;00m SPARQLWrapper, JSON, XML\n\u001b[1;32m      9\u001b[0m \u001b[38;5;28;01mfrom\u001b[39;00m\u001b[38;5;250m \u001b[39m\u001b[38;5;21;01mpprint\u001b[39;00m\u001b[38;5;250m \u001b[39m\u001b[38;5;28;01mimport\u001b[39;00m pprint\n\u001b[1;32m     10\u001b[0m \u001b[38;5;28;01mimport\u001b[39;00m\u001b[38;5;250m \u001b[39m\u001b[38;5;21;01mtime\u001b[39;00m\n",
      "\u001b[0;31mModuleNotFoundError\u001b[0m: No module named 'SPARQLWrapper'"
     ]
    }
   ],
   "source": [
    "'''\n",
    "Created on 29 Mar 2021\n",
    "Modified April 2025 \n",
    "\n",
    "@author: ejimenez-ruiz\n",
    "'''\n",
    "\n",
    "from SPARQLWrapper import SPARQLWrapper, JSON, XML\n",
    "from pprint import pprint\n",
    "import time\n",
    "import os"
   ]
  },
  {
   "cell_type": "markdown",
   "id": "34c06ea8",
   "metadata": {},
   "source": [
    "### Method to load data into a GraphDB repository"
   ]
  },
  {
   "cell_type": "code",
   "execution_count": 2,
   "id": "3f38c25f",
   "metadata": {},
   "outputs": [],
   "source": [
    "def loadingData(endpoint_url, file, format=\"ttl\"):\n",
    "    #https://graphdb.ontotext.com/documentation/free/quick-start-guide.html#load-data-through-sparql-or-rdf4j-api\n",
    "    print(\"Uploading file: \" + file)\n",
    "    if format==\"trig\":\n",
    "        curl_command = \"curl '\" + endpoint_url + \"/statements' -X POST -H \\\"Content-Type:application/x-trig\\\" -T '\" + file + \"'\"\n",
    "    else:\n",
    "        curl_command = \"curl '\" + endpoint_url + \"/statements' -X POST -H \\\"Content-Type:application/x-turtle\\\" -T '\" + file + \"'\"\n",
    "    #Other formats: https://librdf.org/raptor/api/raptor-formats-types-by-parser.html\n",
    "    #print(curl_command)\n",
    "    \n",
    "    status = os.system(curl_command)\n",
    "\n",
    "    #print(status)"
   ]
  },
  {
   "cell_type": "markdown",
   "id": "a0350729",
   "metadata": {},
   "source": [
    "### Method to query a GraphDB repository"
   ]
  },
  {
   "cell_type": "code",
   "execution_count": 3,
   "id": "4a082cd8",
   "metadata": {},
   "outputs": [],
   "source": [
    "def queryGraphDBRepo(endpoint_url, query, attempts=3):\n",
    "    \n",
    "       \n",
    "    try:\n",
    "        \n",
    "        sparql_web = SPARQLWrapper(endpoint_url)\n",
    "        # Default is XML:\n",
    "        # https://sparqlwrapper.readthedocs.io/en/latest/SPARQLWrapper.Wrapper.html\n",
    "        sparql_web.setReturnFormat(JSON)\n",
    "            \n",
    "        sparql_web.setQuery(query)\n",
    "            \n",
    "        results = sparql_web.query().convert()\n",
    "        \n",
    "        #Raw results in json format\n",
    "        #print(\"RAW RESULTS IN JSON FORMAT:\")\n",
    "        #pprint(results)\n",
    "        \n",
    "        print(\"\\tRetrieved tuples: \" + str(len(results[\"results\"][\"bindings\"])))\n",
    "                   \n",
    "        #Processed results\n",
    "        #print(\"Processed results in CSV format:\")\n",
    "        for result in results[\"results\"][\"bindings\"]:\n",
    "            row =\"\"\n",
    "            for out_var in results[\"head\"][\"vars\"]:\n",
    "                #print(out_var)\n",
    "                #print(result[out_var]['value'])        \n",
    "                row = row + \"\\\"\" + result[out_var]['value'] + \"\\\",\" \n",
    "                \n",
    "            print(row)\n",
    "        \n",
    "        \n",
    "    except Exception as e:\n",
    "        print(e)\n",
    "        \n",
    "        print(\"Query '%s' failed. Attempts: %s\" % (query, str(attempts)))\n",
    "        time.sleep(1) #to avoid limit of calls, sleep 1s\n",
    "        attempts-=1\n",
    "        if attempts>0:\n",
    "            return queryGraphDBRepo(endpoint_url, query, attempts)\n",
    "        else:\n",
    "            return None"
   ]
  },
  {
   "cell_type": "markdown",
   "id": "11c2df47",
   "metadata": {},
   "source": [
    "### Tests over three different datasets"
   ]
  },
  {
   "cell_type": "code",
   "execution_count": 5,
   "id": "c3006512",
   "metadata": {},
   "outputs": [
    {
     "name": "stdout",
     "output_type": "stream",
     "text": [
      "\n",
      "Loading data to GraphDB:\n",
      "Uploading file: ./data/named_graphs.ttl\n"
     ]
    },
    {
     "ename": "NameError",
     "evalue": "name 'os' is not defined",
     "output_type": "error",
     "traceback": [
      "\u001b[0;31m---------------------------------------------------------------------------\u001b[0m",
      "\u001b[0;31mNameError\u001b[0m                                 Traceback (most recent call last)",
      "Cell \u001b[0;32mIn[5], line 69\u001b[0m\n\u001b[1;32m     66\u001b[0m     \u001b[38;5;28;01mif\u001b[39;00m path_to_onto_file \u001b[38;5;129;01mis\u001b[39;00m \u001b[38;5;129;01mnot\u001b[39;00m \u001b[38;5;28;01mNone\u001b[39;00m: \n\u001b[1;32m     67\u001b[0m         loadingData(graphdb_endpoint, path_to_onto_file, \u001b[38;5;28mformat\u001b[39m)\n\u001b[0;32m---> 69\u001b[0m     \u001b[43mloadingData\u001b[49m\u001b[43m(\u001b[49m\u001b[43mgraphdb_endpoint\u001b[49m\u001b[43m,\u001b[49m\u001b[43m \u001b[49m\u001b[43mpath_to_data_file\u001b[49m\u001b[43m,\u001b[49m\u001b[43m \u001b[49m\u001b[38;5;28;43mformat\u001b[39;49m\u001b[43m)\u001b[49m\n\u001b[1;32m     72\u001b[0m \u001b[38;5;28mprint\u001b[39m(\u001b[38;5;124m\"\u001b[39m\u001b[38;5;130;01m\\n\u001b[39;00m\u001b[38;5;124mQuerying GraphDB Endpoint:\u001b[39m\u001b[38;5;124m\"\u001b[39m)\n\u001b[1;32m     73\u001b[0m queryGraphDBRepo(graphdb_endpoint, query)\n",
      "Cell \u001b[0;32mIn[2], line 11\u001b[0m, in \u001b[0;36mloadingData\u001b[0;34m(endpoint_url, file, format)\u001b[0m\n\u001b[1;32m      7\u001b[0m     curl_command \u001b[38;5;241m=\u001b[39m \u001b[38;5;124m\"\u001b[39m\u001b[38;5;124mcurl \u001b[39m\u001b[38;5;124m'\u001b[39m\u001b[38;5;124m\"\u001b[39m \u001b[38;5;241m+\u001b[39m endpoint_url \u001b[38;5;241m+\u001b[39m \u001b[38;5;124m\"\u001b[39m\u001b[38;5;124m/statements\u001b[39m\u001b[38;5;124m'\u001b[39m\u001b[38;5;124m -X POST -H \u001b[39m\u001b[38;5;130;01m\\\"\u001b[39;00m\u001b[38;5;124mContent-Type:application/x-turtle\u001b[39m\u001b[38;5;130;01m\\\"\u001b[39;00m\u001b[38;5;124m -T \u001b[39m\u001b[38;5;124m'\u001b[39m\u001b[38;5;124m\"\u001b[39m \u001b[38;5;241m+\u001b[39m file \u001b[38;5;241m+\u001b[39m \u001b[38;5;124m\"\u001b[39m\u001b[38;5;124m'\u001b[39m\u001b[38;5;124m\"\u001b[39m\n\u001b[1;32m      8\u001b[0m \u001b[38;5;66;03m#Other formats: https://librdf.org/raptor/api/raptor-formats-types-by-parser.html\u001b[39;00m\n\u001b[1;32m      9\u001b[0m \u001b[38;5;66;03m#print(curl_command)\u001b[39;00m\n\u001b[0;32m---> 11\u001b[0m status \u001b[38;5;241m=\u001b[39m \u001b[43mos\u001b[49m\u001b[38;5;241m.\u001b[39msystem(curl_command)\n",
      "\u001b[0;31mNameError\u001b[0m: name 'os' is not defined"
     ]
    }
   ],
   "source": [
    "#Select one test, comment the others\n",
    "test=\"world-cities\"\n",
    "test=\"nobel-prizes\" \n",
    "test=\"named-graphs\" \n",
    "\n",
    "loadData = True\n",
    "#loadData = False  #If already loaded\n",
    "path_to_onto_file=None\n",
    "\n",
    "localhost = \"http://127.0.0.1:7200\"\n",
    "\n",
    "if test==\"world-cities\":\n",
    "\n",
    "    ##REPOSITORY URL AND SPARQL ENDPOINT\n",
    "    ##To be updated with your local Endpoint URL\n",
    "    graphdb_endpoint = localhost + \"/repositories/lab_graphdb\"\n",
    "    \n",
    "    #PATH TO DATA\n",
    "    path_to_data_file = \"../lab7/data/worldcities-free-100-task1.ttl\"\n",
    "    path_to_onto_file = \"../lab7/data/ontology_worldcities.ttl\"\n",
    "    \n",
    "    format=\"ttl\"\n",
    "    \n",
    "    \n",
    "    #QUERY DATA\n",
    "    query = \"\"\"\n",
    "            PREFIX wco: <http://www.semanticweb.org/ernesto/in3067-inm713/wco/>\n",
    "            SELECT DISTINCT ?country (COUNT(?city) AS ?num_cities) WHERE { \n",
    "                  ?country wco:hasCity ?city .\n",
    "            }\n",
    "            GROUP BY ?country\n",
    "            ORDER BY DESC(?num_cities)\n",
    "            LIMIT 10\n",
    "            \"\"\"\n",
    "\n",
    "elif test==\"nobel-prizes\":\n",
    "    \n",
    "    graphdb_endpoint = localhost + \"/repositories/NobelPrize\"\n",
    "    path_to_onto_file = \"../files/nobel-prize-ontology.rdf\"\n",
    "    path_to_data_file = \"../files/nobelprize_kg.nt\"\n",
    "    \n",
    "    query_file=\"./data/query_nobel-prize-service.txt\"\n",
    "    #query_file=\"./data/query7.6_nobel-prize.txt\"\n",
    "    query = open(query_file, 'r').read()\n",
    "    \n",
    "    format=\"ttl\"\n",
    "    \n",
    "\n",
    "else:\n",
    "    graphdb_endpoint = localhost + \"/repositories/namedGraphs\"    \n",
    "    path_to_data_file = \"./data/named_graphs.ttl\"\n",
    "    format=\"trig\"\n",
    "    \n",
    "    #query_file=\"./data/query_named_simple.txt\"\n",
    "    query_file=\"./data/query_named1.txt\"\n",
    "    #query_file=\"./data/query_named2.txt\"\n",
    "    #query_file=\"./data/query_named_all.txt\"\n",
    "    #query_file=\"./data/query_named_from.txt\"    \n",
    "    query = open(query_file, 'r').read()\n",
    "\n",
    "\n",
    "\n",
    "\n",
    "if loadData:\n",
    "    print(\"\\nLoading data to GraphDB:\")\n",
    "    if path_to_onto_file is not None: \n",
    "        loadingData(graphdb_endpoint, path_to_onto_file, format)\n",
    "    \n",
    "    loadingData(graphdb_endpoint, path_to_data_file, format)\n",
    "\n",
    "\n",
    "print(\"\\nQuerying GraphDB Endpoint:\")\n",
    "queryGraphDBRepo(graphdb_endpoint, query)"
   ]
  },
  {
   "cell_type": "code",
   "execution_count": null,
   "id": "2b8e1ebb",
   "metadata": {},
   "outputs": [],
   "source": []
  }
 ],
 "metadata": {
  "kernelspec": {
   "display_name": "Python 3 (ipykernel)",
   "language": "python",
   "name": "python3"
  },
  "language_info": {
   "codemirror_mode": {
    "name": "ipython",
    "version": 3
   },
   "file_extension": ".py",
   "mimetype": "text/x-python",
   "name": "python",
   "nbconvert_exporter": "python",
   "pygments_lexer": "ipython3",
   "version": "3.10.12"
  }
 },
 "nbformat": 4,
 "nbformat_minor": 5
}
